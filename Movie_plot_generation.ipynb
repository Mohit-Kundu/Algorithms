{
  "nbformat": 4,
  "nbformat_minor": 0,
  "metadata": {
    "colab": {
      "name": "Movie_plot_generation.ipynb",
      "provenance": [],
      "collapsed_sections": [],
      "authorship_tag": "ABX9TyPZEBP7tXs6RLuwiuhNFclG",
      "include_colab_link": true
    },
    "kernelspec": {
      "name": "python3",
      "display_name": "Python 3"
    },
    "language_info": {
      "name": "python"
    },
    "accelerator": "GPU"
  },
  "cells": [
    {
      "cell_type": "markdown",
      "metadata": {
        "id": "view-in-github",
        "colab_type": "text"
      },
      "source": [
        "<a href=\"https://colab.research.google.com/github/Mohit-Kundu/Algorithms/blob/master/Movie_plot_generation.ipynb\" target=\"_parent\"><img src=\"https://colab.research.google.com/assets/colab-badge.svg\" alt=\"Open In Colab\"/></a>"
      ]
    },
    {
      "cell_type": "code",
      "metadata": {
        "id": "iLuXmV9zs5po",
        "colab": {
          "base_uri": "https://localhost:8080/"
        },
        "outputId": "4f8316e2-c16f-4dc4-b8bc-dd2901bd0205"
      },
      "source": [
        "#Selecting Tensorflow version 1.x as gpt2 currently has a few compatibility issues with version 2.0\n",
        "%tensorflow_version 1.x"
      ],
      "execution_count": 1,
      "outputs": [
        {
          "output_type": "stream",
          "name": "stdout",
          "text": [
            "TensorFlow 1.x selected.\n"
          ]
        }
      ]
    },
    {
      "cell_type": "code",
      "metadata": {
        "colab": {
          "base_uri": "https://localhost:8080/"
        },
        "id": "vd5yCBT3tCKe",
        "outputId": "69283734-732d-466c-b8cb-af1e5b3bfece"
      },
      "source": [
        "#Importing gpt2 simple\n",
        "!pip install gpt-2-simple"
      ],
      "execution_count": 2,
      "outputs": [
        {
          "output_type": "stream",
          "name": "stdout",
          "text": [
            "Collecting gpt-2-simple\n",
            "  Downloading gpt_2_simple-0.7.2.tar.gz (25 kB)\n",
            "Requirement already satisfied: regex in /usr/local/lib/python3.7/dist-packages (from gpt-2-simple) (2019.12.20)\n",
            "Requirement already satisfied: requests in /usr/local/lib/python3.7/dist-packages (from gpt-2-simple) (2.23.0)\n",
            "Requirement already satisfied: tqdm in /usr/local/lib/python3.7/dist-packages (from gpt-2-simple) (4.62.3)\n",
            "Requirement already satisfied: numpy in /usr/local/lib/python3.7/dist-packages (from gpt-2-simple) (1.19.5)\n",
            "Collecting toposort\n",
            "  Downloading toposort-1.7-py2.py3-none-any.whl (9.0 kB)\n",
            "Requirement already satisfied: certifi>=2017.4.17 in /usr/local/lib/python3.7/dist-packages (from requests->gpt-2-simple) (2021.5.30)\n",
            "Requirement already satisfied: urllib3!=1.25.0,!=1.25.1,<1.26,>=1.21.1 in /usr/local/lib/python3.7/dist-packages (from requests->gpt-2-simple) (1.24.3)\n",
            "Requirement already satisfied: idna<3,>=2.5 in /usr/local/lib/python3.7/dist-packages (from requests->gpt-2-simple) (2.10)\n",
            "Requirement already satisfied: chardet<4,>=3.0.2 in /usr/local/lib/python3.7/dist-packages (from requests->gpt-2-simple) (3.0.4)\n",
            "Building wheels for collected packages: gpt-2-simple\n",
            "  Building wheel for gpt-2-simple (setup.py) ... \u001b[?25l\u001b[?25hdone\n",
            "  Created wheel for gpt-2-simple: filename=gpt_2_simple-0.7.2-py3-none-any.whl size=23620 sha256=c7e44408f794ffa88c5a578dd9fca1ff7155c0233e22740aff171b183ce68fb7\n",
            "  Stored in directory: /root/.cache/pip/wheels/f8/a0/0b/18b541426b0d966b55ae6dc35628a85f67d0698e5fabb1d6c7\n",
            "Successfully built gpt-2-simple\n",
            "Installing collected packages: toposort, gpt-2-simple\n",
            "Successfully installed gpt-2-simple-0.7.2 toposort-1.7\n"
          ]
        }
      ]
    },
    {
      "cell_type": "code",
      "metadata": {
        "id": "s30y_xPYtM9k",
        "colab": {
          "base_uri": "https://localhost:8080/"
        },
        "outputId": "7169acf5-8275-4200-adf4-37837ff0f458"
      },
      "source": [
        "import gpt_2_simple as gpt2\n",
        "from datetime import datetime"
      ],
      "execution_count": 3,
      "outputs": [
        {
          "output_type": "stream",
          "name": "stdout",
          "text": [
            "WARNING:tensorflow:\n",
            "The TensorFlow contrib module will not be included in TensorFlow 2.0.\n",
            "For more information, please see:\n",
            "  * https://github.com/tensorflow/community/blob/master/rfcs/20180907-contrib-sunset.md\n",
            "  * https://github.com/tensorflow/addons\n",
            "  * https://github.com/tensorflow/io (for I/O related ops)\n",
            "If you depend on functionality not listed there, please file an issue.\n",
            "\n"
          ]
        }
      ]
    },
    {
      "cell_type": "code",
      "metadata": {
        "colab": {
          "resources": {
            "http://localhost:8080/nbextensions/google.colab/files.js": {
              "data": "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",
              "ok": true,
              "headers": [
                [
                  "content-type",
                  "application/javascript"
                ]
              ],
              "status": 200,
              "status_text": ""
            }
          },
          "base_uri": "https://localhost:8080/",
          "height": 73
        },
        "id": "0rjxhKafGYI6",
        "outputId": "0645e85b-c92d-4905-8122-18b14d105c94"
      },
      "source": [
        "#upload file to colab environment\n",
        "from google.colab import files\n",
        "uploaded = files.upload()"
      ],
      "execution_count": 4,
      "outputs": [
        {
          "output_type": "display_data",
          "data": {
            "text/html": [
              "\n",
              "     <input type=\"file\" id=\"files-2c2f796e-03b6-45cc-9c70-47b49b9e5f2a\" name=\"files[]\" multiple disabled\n",
              "        style=\"border:none\" />\n",
              "     <output id=\"result-2c2f796e-03b6-45cc-9c70-47b49b9e5f2a\">\n",
              "      Upload widget is only available when the cell has been executed in the\n",
              "      current browser session. Please rerun this cell to enable.\n",
              "      </output>\n",
              "      <script src=\"/nbextensions/google.colab/files.js\"></script> "
            ],
            "text/plain": [
              "<IPython.core.display.HTML object>"
            ]
          },
          "metadata": {}
        },
        {
          "output_type": "stream",
          "name": "stdout",
          "text": [
            "Saving plots.txt to plots.txt\n"
          ]
        }
      ]
    },
    {
      "cell_type": "code",
      "metadata": {
        "colab": {
          "base_uri": "https://localhost:8080/"
        },
        "id": "Z-3sWNg-unPv",
        "outputId": "b935105d-85ae-4cd4-8301-15a2c3f73c22"
      },
      "source": [
        "#Downloading gpt2 small model\n",
        "#For more information about model sizes check out: https://github.com/openai/gpt-2/issues/209\n",
        "gpt2.download_gpt2(model_name=\"124M\")"
      ],
      "execution_count": 5,
      "outputs": [
        {
          "output_type": "stream",
          "name": "stderr",
          "text": [
            "Fetching checkpoint: 1.05Mit [00:00, 476Mit/s]                                                      \n",
            "Fetching encoder.json: 1.05Mit [00:00, 9.87Mit/s]\n",
            "Fetching hparams.json: 1.05Mit [00:00, 316Mit/s]                                                    \n",
            "Fetching model.ckpt.data-00000-of-00001: 498Mit [00:15, 32.0Mit/s]                                  \n",
            "Fetching model.ckpt.index: 1.05Mit [00:00, 174Mit/s]                                                \n",
            "Fetching model.ckpt.meta: 1.05Mit [00:00, 8.72Mit/s]\n",
            "Fetching vocab.bpe: 1.05Mit [00:00, 9.74Mit/s]\n"
          ]
        }
      ]
    },
    {
      "cell_type": "code",
      "metadata": {
        "colab": {
          "base_uri": "https://localhost:8080/"
        },
        "id": "o_8tH0DGvIak",
        "outputId": "dab61568-4abe-4a32-cf69-da9b110b3d22"
      },
      "source": [
        "from google.colab import files\n",
        "gpt2.mount_gdrive()"
      ],
      "execution_count": 6,
      "outputs": [
        {
          "output_type": "stream",
          "name": "stdout",
          "text": [
            "Mounted at /content/drive\n"
          ]
        }
      ]
    },
    {
      "cell_type": "code",
      "metadata": {
        "id": "woXMQToGxFGN"
      },
      "source": [
        "session = gpt2.start_tf_sess()"
      ],
      "execution_count": 7,
      "outputs": []
    },
    {
      "cell_type": "code",
      "metadata": {
        "colab": {
          "base_uri": "https://localhost:8080/"
        },
        "id": "YNqAx0kEBfXh",
        "outputId": "fc2ce214-b24d-45f6-ebe6-ac544c1ab2de"
      },
      "source": [
        "# Finetuning model to fit dataset\n",
        "gpt2.finetune(session, \n",
        "              dataset=\"plots.txt\", \n",
        "              model_name=\"124M\", \n",
        "              steps=1000, # no of iterations\n",
        "              print_every=10, # progress is printed every 10 iterations\n",
        "              sample_every=100, # sample o/p is printed every 100 iterations\n",
        "              save_every=250 # checkpoint saved every 250 iterations\n",
        "              )\n"
      ],
      "execution_count": 8,
      "outputs": [
        {
          "output_type": "stream",
          "name": "stdout",
          "text": [
            "WARNING:tensorflow:From /usr/local/lib/python3.7/dist-packages/gpt_2_simple/src/sample.py:17: where (from tensorflow.python.ops.array_ops) is deprecated and will be removed in a future version.\n",
            "Instructions for updating:\n",
            "Use tf.where in 2.0, which has the same broadcast rule as np.where\n",
            "Loading checkpoint models/124M/model.ckpt\n",
            "INFO:tensorflow:Restoring parameters from models/124M/model.ckpt\n",
            "Loading dataset...\n"
          ]
        },
        {
          "output_type": "stream",
          "name": "stderr",
          "text": [
            "100%|██████████| 1/1 [00:01<00:00,  1.44s/it]\n"
          ]
        },
        {
          "output_type": "stream",
          "name": "stdout",
          "text": [
            "dataset has 157300 tokens\n",
            "Training...\n",
            "[10 | 52.97] loss=3.30 avg=3.30\n",
            "[20 | 97.72] loss=3.23 avg=3.27\n",
            "[30 | 142.44] loss=2.90 avg=3.14\n",
            "[40 | 187.13] loss=2.88 avg=3.08\n",
            "[50 | 231.77] loss=3.05 avg=3.07\n",
            "[60 | 276.42] loss=2.91 avg=3.04\n",
            "[70 | 321.08] loss=2.82 avg=3.01\n",
            "[80 | 365.68] loss=2.58 avg=2.95\n",
            "[90 | 410.30] loss=2.59 avg=2.91\n",
            "[100 | 454.89] loss=2.74 avg=2.89\n",
            "======== SAMPLE 1 ========\n",
            " his brother Tessa. This proves to be a false start, and the two go back to the city to escape the Assassins, but are separated. Later, the Assassins attempt to kill Roland, the last of the Black Men.While at a party, the Assassins ambush them. Telling them that he is going to kill Roland, Arlen overhears these things and kills Roland's henchmen, the rest of the Black Men. While the Assassins are distracted by Roland's minions, they ambushed and killed the Assassins' leader, Ewene Thawne. The ambush was broken up by a small party led by the rogue Jedi Ahsoka Tano, the Sith Lord Ahsoka Tano, and the others. Tano and her friends were caught by the Jedi after a storm of captured Jedi Knights led by the villainous Thaddeus and his friends, Jawaan; Ahsoka became the first of them murdered. The remaining members of Alanna, the convent, survived the storm, and are now all working for the Alliance. Amidst the chaos, Dooku, Ahsoka's brother, awakens.In the Jedi Temple, Ahsoka and her friends gather for a ceremony which they later use to resurrect the fallen Jedi Order's fallen Jedi Order. They also celebrate the return of their friend, Ahsoka, who was slain during the celebration. Ahsoka is asked to speak with the Order's Secretary of Security, Dwan Karam, who explains that the Order's primary weapon of choice is the lightsaber. The Jedi Order is supposed to protect the galaxy from the evil Jedi Order, led by Lord Karkat and his gang, who are now led by Jango Fett. Jango takes the sword and impregnates Ahsoka with it, revealing that she was the last of her kind, as she failed to bring the two Jedi to safety. The two Jedi are freed and are joined by Arren, Dooku, Dooku's lover, Koo, Ahsoka's mother, and Anakin Skywalker, Ahsoka's mentor from her childhood. The two find a tomb to their joy of seeing their friends and allies return and reunite again.<EOL>\n",
            "\n",
            "<BOL>In a post-credits scene, an overweight young man named Mikey and his family attend a home party. Mikey, a former football player from the University of Arkansas, introduces the family to a new friend, an elderly woman, and the couple's son, who's going through a family upheaval. The new friend is not Mikey's aunt, but his best friend Karen. Karen is the daughter of an academic who, due to a heart attack, was put through numerous tests as a last resort.In her mid-20s, Karen's father, a former high school football player, is killed in a car wreck. She and her boyfriend, an artist, accidentally cause the wreck while driving by shooting Karen and injuring their friend. The police find the family's car; the body of Karen was discovered a week after the crash. Soon afterward, Karen's ex-boyfriend and friend, an engineer, is murdered by his estranged brother, a skilled gun-toting alien. The police also discover Karen's husband, Karen's lover, and estranged brother's murder after Karen kills her husband's lover. Mikey, Karen's father, and his family are captured on surveillance cameras.The family's estranged son, Mikey's stepson, is discovered murdered by his best friend and estranged brother, as well as being shot multiple times, both times after the family unsuccessfully attempted to escape. Mikey, Mikey's friend, is discovered wounded in the head by a gang of unknown men. Mikey is interrogated by a police officer, telling him that Karen will be safe after all, but she will not tell his wife, Heather, and husband, George, nor the family what they are up to. The mother visits the doctor who thinks Mikey is still alive. She says she had a seizure, but will not tell him. She also says that only one shot is fired. Mikey calls his mother to the house to find out what he is being held for. Karen tells her that she will not tell the family who killed her father, although the family would be happy to get the chance to know their dead son. Mikey is taken with what Heather calls \"a thousand voices,\" who says that he has told her a thousand times that there is more to life than death. Heather says that they are going to take him. Heather tells the mother that she has given them the last of her life because she wishes to take him. Mikey, now lying, speaks with Heather, who explains that she is a skilled gun-toting alien. The mother thinks that he is a professional criminal using his weapons. It was revealed that Karen's friend Michaela is to blame for Mikey's murder. The mother believes that the alien, now in a coma on a flight to\n",
            "\n",
            "[110 | 517.77] loss=2.63 avg=2.87\n",
            "[120 | 562.46] loss=2.35 avg=2.82\n",
            "[130 | 607.08] loss=2.23 avg=2.77\n",
            "[140 | 651.70] loss=2.09 avg=2.72\n",
            "[150 | 696.30] loss=2.20 avg=2.69\n",
            "[160 | 740.90] loss=2.12 avg=2.65\n",
            "[170 | 785.48] loss=2.08 avg=2.61\n",
            "[180 | 830.12] loss=1.87 avg=2.57\n",
            "[190 | 874.75] loss=2.03 avg=2.54\n",
            "[200 | 919.38] loss=2.04 avg=2.51\n",
            "======== SAMPLE 1 ========\n",
            " to move to New Orleans and join a band called the Black Mambas. They play against the city's police, who have an interest in beating up an old friend. The black Mambas attack the police before a police escort arrives and the two women assault the police captain, who is angered at the assault but does not hit back.When the two women are discovered, the captain is angry because he thinks the women tried to attack him, prompting the two women to break into his house and kill him. The two women then set fire to the captain's car. The police captain sees his daughter and orders her to come out and help, but is annoyed when she does not. The two women then assault the captain using a crowbar. After fatally stabbing the captain, the Black Mambas flee on foot. The surviving members of the Black Mambas wear white costumes and kneel in the street as the sun rises before dawn, listening to the beatings of the police in silence.In the aftermath of the beating, the city council dissolves the city council and all of its agencies except for the city police and Louisiana State Police are disbanded. The Black Mambas wear red and white masks that read \"We Will Not Divide\", \"Together We Will Fight\" and \"We Will Rise together\". They also participate in music performances, perform choir and do other promotional activities.<EOL>\n",
            "\n",
            "<BOL>In Paris, young Jean (Beau Bridges) is the manager of a photographic magazine and the mother of three young daughters. She works as a waitress at the popular Parisian restaurant Bastille, located just meters away from the Bataclan Theater, which is being played at 1 p.m. in the Swiss canton of \"Bastille\". In an interview at her home, Jean explains to Charles that she works at the club where the movie \"Twentieth Night\" is based but does not act.<EOL>\n",
            "\n",
            "<BOL>In the near future, humans are augmented with cybernetic enhancements to enhance traits such as vision, intelligence, and function. The program that creates the devices and distributes them, Project CARS, creates individuals who are either physically or mentally similar to the human race. Among the individuals selected for the program are Bruce Willis, Jamie Soward, Aubrey Plaza, and others. Project CARS creator and engineer Ray Kurz is attracted to Dr. Tashiro Murakami, a Japanese physicist, due to his personal background and commitment to the pursuit of advanced artificial intelligence. Ray is recruited by Dr. Tashiro as well as his wife and their 3-year-old daughter, Saki Yoshikawa, to help him with the development of Project CARS.In the near future, Tashiro and his team create and deploys augmented soldiers. The soldiers include humans who are physically similar to the subjects in the Project CARS program, but are not necessarily physically identical. Project CARS users include over 2,800 people through 7 September 2005. Nineteen people died in a terrorist attack on the Oklahoma City Oklahoma Study Conference in 2005; 12 of the victims were suicides; the others were members of terrorist groups. In Oklahoma City, police identify the shooter as Harold Davis, a civilian TSA Pre Pre Agent. He is killed in a riot.Later, during a presentation, Dr. Tashiro describes how Project CARS enables criminals to hijack planes to deliver lethal drugs, guns and other items, so long as the sellers pay a sum that the program's participants receive. Project CARS users include a man named Clyde, who was convicted of murder but received only a year in prison and was released after serving seven years probation; an associate of another man named Logan, who was also convicted but received only a year in prison; and a man named Jimmy Stewart, who was charged but never admitted as the shooter died in a police shootout in 1996.Ray uses Project CARS to remotely control a military Humvee, equipped with a built-in microphone. He uses the microphone to tell his dog that the TSA is screening him, to which the pilot responds, \"We're not going anywhere. Come on out of the car.\" Project CARS users include Clyde, Jimmy, and Jimmy Stewart. Project CARS users include Project Ozzie, a TSA agent who is supposed to be protecting Clyde from TSA Agent James Davis; Officer Larry, Clyde's long time friend; Officer Tashiro, a TSA agent who is supposed to be protecting Officer Tashiro; and Officer D'Alelio, Clyde's boss.Ray goes to his car and sees a TSA Agent on duty. He asks Larry, a TSA Agent, if Tashiro is on duty. Larry answers that he is not, in fact, on duty but needs to go to work. After getting Tashiro's phone number so he can call the TSA Agent, Ray goes out to tell Tashiro to go pick her up. Ray meets a TSA Agent named Officer Tashiro in his car. Ray tells Ray\n",
            "\n",
            "[210 | 981.11] loss=1.72 avg=2.47\n",
            "[220 | 1025.64] loss=1.49 avg=2.42\n",
            "[230 | 1070.25] loss=1.70 avg=2.38\n",
            "[240 | 1114.85] loss=1.41 avg=2.34\n",
            "[250 | 1159.47] loss=1.35 avg=2.29\n",
            "Saving checkpoint/run1/model-250\n",
            "[260 | 1207.68] loss=1.32 avg=2.25\n",
            "[270 | 1252.29] loss=1.22 avg=2.21\n",
            "[280 | 1296.88] loss=0.93 avg=2.16\n",
            "[290 | 1341.36] loss=1.10 avg=2.11\n",
            "[300 | 1385.76] loss=0.73 avg=2.06\n",
            "======== SAMPLE 1 ========\n",
            " his left fist. The robot forces the Skullcrawler to release the Skull Kid from his jaws and releases him from the elevator. The team saves Lucy from Hutch and the Skullcrawler, but Lucy is killed. Hutch calls the Skulls up to inform them the airship crashed near a nuclear test site, killing all crew members and leaving the team to focus on their mission: recovering the Stone of Destiny from the dead Jedi Order members.Mae persuades the group to kill the Skulls and return to the Jedi Order, which they initially support. They choose to, after capturing the saboteur Calec yelaw.[H]Raine confronts the group, revealing he is the true traitor, after which they are nearly picked up by the Force, but Annihilus knocks them both out as a distraction.[V]Mae manages to kill the Jedi Master Palma and get the Stone, but is killed by Randa at Gunlamp 23.<EOL>\n",
            "\n",
            "<BOL>Dash is a former child star whose best friend was his ex-wife's boyfriend, is mentally unstable, and smokes pot, among other things. She has nightmares about a man who kidnaps children, and uses guns to intimidate others.In 2016, Dash learns of the DNC hacks targeting the Democratic National Committee (DNC) and its operations, and contacts an alleged \"hacker\" at The Mary Sue writing site Five Guys, claiming to be responsible for the DNC and the DNC servers being compromised. Eighteen-year-old Dash makes a deal with Peter Oreskes, a struggling real estate agent, to help him/her escape from prison. Meanwhile, Peter contacts the Circle of God, where they agree to help financially. Peter provides the upper hand against Oreskes who beats him with a drum and insults him before fleeing the scene.On the train to LAX, Peter tells Peter to stop clashing with the Circle of God, warning that they will find him/herself. Peter's flight to LAX is delayed and he/she eventually finds a new location, where they confront an armed bystander known as \"The Beard\", who has mowed down a number of bank robbers before.Peter reveals his true identity to be Travis J. Finney, a.k.a. Mr. Finney Jr. He is wanted as a federal informant for shooting dead a fleeing robbery suspect, and for shooting at another armed robber. Later, Peter is targeted by \"The Beard\" despite refusing to help Mike, an undercover LAPD SWAT team officer. A SWAT team arrives, and the two fight, and The Beard is pursued to a plantation house. He is fatally shot by the medical examiner's office, and Mike is presumed dead at the hospital, despite medical screenings and prompt medical response.Travis informs Mike that he was acting alone when he opened fire, and Mike answers that Travis asked for Mike, and Mike was acting with self-defense. The following day, Mike reveals his alleged ties to the Circle of God, including having orchestrated the death of his wife and family, and instructs Mike to be specific about what he wants to say and do. The following day, Mike is found dead, unharmed and surrounded by the press, police, and other media. Mike cuts off Travis's hand with a hot knife, stabs him in the neck, and drives Mike to a shooting at the Circle of God's headquarters, where a squad of officers is waiting. Mike shoots and kills the man, wounds him several times, and drives out to confront the shooter, who has a gun with a metal handle. The shooter has demanded that Mike opens the safe there, knowing the time-frame is short. Mike tells Travis that the safe would allow for illegal drugs unless the buyer secretly gets cash raises on donations. The shooter knows this and would rather have Mike out of the country than be caught; therefore, he seeks the \"finale\" of the conspiracy before the media. Travis reveals that the high is to allow them to escape the legal country for running several high-trafficking businesses in the US, all while receiving cash raises from donations.Mike, during this period, gets into a fight with another cop over money raised by raised donations. The cop demands to know where Mike is getting his money, and Mike answers that he is in California. Another cop shows up, telling Mike that the car he is driving should cost him an arm and leg. Travis tells him that he has agreed to help him buy a house and car, without asking him to divulge his social standing to anyone, including Mike.Mike and his grandmother open the safe, discover a stash of money, then frees them. When they drive to the airport, Mike asks if Peter Oreskes lives there, and he says no, he does not. They get into an argument in the car, and Mike tells him he is not a racist and therefore should not have shot Mike. The fight ends with Mike asking for Peter's sympathy, and permission to fly to Amsterdam; however,\n",
            "\n",
            "[310 | 1446.85] loss=1.18 avg=2.03\n",
            "[320 | 1491.49] loss=1.15 avg=2.00\n",
            "[330 | 1536.09] loss=0.97 avg=1.96\n",
            "[340 | 1580.64] loss=0.79 avg=1.92\n",
            "[350 | 1625.21] loss=0.48 avg=1.87\n",
            "[360 | 1669.81] loss=0.59 avg=1.83\n",
            "[370 | 1714.42] loss=0.49 avg=1.78\n",
            "[380 | 1759.03] loss=0.41 avg=1.74\n",
            "[390 | 1803.62] loss=0.56 avg=1.71\n",
            "[400 | 1848.23] loss=0.52 avg=1.67\n",
            "======== SAMPLE 1 ========\n",
            " head to the car, but it escapes when the starter is not on. As she tries to free it (she almost does it on purpose as she is attempting to free the car from the chair), the driver of the car hits her with his car keys before dying from his wounds. The family move in to the guest house, where Maya keeps telling her everything is going great.However, during a home away game, the two disappear into the home gallery, where a mysterious man (played by Joel Kinnaman in the second film) reveals himself as Lord Bertie Smith. He comes to the home to see where the family is, and answers his phone. When he gets to the door, he sees his family outside, and he smiles. The family begins to gather around the tree to try and find their father. When they do not find him, they return to the car and are confronted by another family. The father points out that he and his wife are all gone from the missing loved ones, while the women blame each other. The women growl at the father, who finally pauses to consider the possibility of finding their father.The movie ends with the children on their own to recover their father's body. As they begin to break down in tears, Maya states clearly that she does not want to see these children anymore.<EOL>\n",
            "\n",
            "<BOL>A young Jewish boy rises from his basement, his parents dead and smothered, he spends the next few months crushed under rubble as he tries to survive without his parents around. When their older brother Max and his older sister Sonia arrive at the home, they find that they have been forced to take their youngest brother with them despite pleading with them to let them stay with him. Max's mother Sylvia, his stepfather Ben, and his uncles Bob and Adam, and their African-American co-worker Juliette come to the house to \"help\", but when they yell \"Help!\" at the door, they end up killing themselves and Juliette.When Max's younger brother Max and his stepfather, Bud, attempt to storm the house, both officers are killed. Away from home, Max rallies his friends to follow suit and try to kill both officers with a M16 assault rifle. Ben, too, is killed when he tries to. Meanwhile, Sonia shoots Max's stepfather at gunpoint, leaving him with no other options but to resort to violence.When Max's stepfather accidentally wounds himself with a firing pin, Frankie is also shot and taken to the hospital. Max's stepfather, meanwhile, is shown dying shortly after arriving at the house. As grief resumes, Isla, the missing cousin, relays the news to Max: He has no one to look up to be his mentor, and he feels no need to be treated like an inferior. He takes his own life to protect Isla and the boy's identity.Halloween is a violent time for the family, with Max, Bud, Frankie, Isla, Jack and Isla's cousin Mellie murdered in a robbery they attempted at least one year earlier. Later, a hooded figure pulls a trigger and kills Jack in cold blood. Max realizes that the masked figure in the video does not exist, and goes after the lone killer himself. He stops at nothing to no avail, only to be gunned down by Isla and Mellie at the scene of his death. Isla tries to call her mom, but then disappears into the woods. Isla's mother Tessa appears to explain that her daughter has been murdered when Max finally finds her.Isla confronts Mellie, who reveals that she killed Mellie as a revenge for Martin's death. That night, she breaks out into Samuel R. Webb-Phillip's (Rudolph the Dancing Clown) fan club to get an autograph from the clown. Isla meets with Bud, but is unable to talk directly to him. Isla asks Mellie what Samuel is (sheTessa), to which Mellie replies that he is a criminal whose only connection with Martin is to rob him. She proceeds to have Samuel message him on the phone about his new movie and invites him to stay for the night.Isla marries Tessa but is shot in the neck by Teddy, who leaves her to find the missing cousin doll. She wakes up the next morning with a shotgun in her hand. Twenty five years later, Tessa, who was once again the father of Benjamin, has taken over the Benlins house and is planning to rob them all to unleash an \"alive\" alibi for Martin. Isla meets with Bud and notices the father, who tells her that Samuel has invited him to stay in the house next door too. When Isla knocks on the father's door, the alighting of alibis from the bullets carried in the gun on her head. It also becomes clear that Samuel has invited Tessa to stay next door too, to wreak revenge on her for the murder of her brother. Max and Isla battle\n",
            "\n",
            "[410 | 1909.99] loss=0.45 avg=1.63\n",
            "[420 | 1954.57] loss=0.47 avg=1.60\n",
            "[430 | 1999.15] loss=0.24 avg=1.56\n",
            "[440 | 2043.74] loss=0.47 avg=1.53\n",
            "[450 | 2088.31] loss=0.24 avg=1.49\n",
            "[460 | 2132.90] loss=0.33 avg=1.46\n",
            "[470 | 2177.49] loss=0.26 avg=1.43\n",
            "[480 | 2222.06] loss=0.19 avg=1.40\n",
            "[490 | 2266.64] loss=0.29 avg=1.37\n",
            "[500 | 2311.19] loss=0.25 avg=1.34\n",
            "Saving checkpoint/run1/model-500\n",
            "WARNING:tensorflow:From /tensorflow-1.15.2/python3.7/tensorflow_core/python/training/saver.py:963: remove_checkpoint (from tensorflow.python.training.checkpoint_management) is deprecated and will be removed in a future version.\n",
            "Instructions for updating:\n",
            "Use standard file APIs to delete files with this prefix.\n",
            "======== SAMPLE 1 ========\n",
            " Sophia/Connie. They go on a date and she tells them they must change their name to come to terms with her change of heart. They later get together at a restaurant and begin having sex. The next morning they have sex. The next morning they get drunkages and have sex again. After one night stands no sex is found and so far no one has a woman over for dinner. The next day the waitress service comes out to tell them the restaurant is having a success and the servers are having troubles finding food. They also hear about the outbreak of love disorder but aren't sure why.A year later, Sarah is dating Tessa and the two get in a passionate relationship. Tessa seems to be getting used to her own boyfriend's advances and is having second thoughts about leaving Conner's home (on account of the cold). Tessa goes to Josh's house and fumbles with the fridge. There Josh finds Sarah in permabukha smoking in the oven. She tells Josh she doesn't like the smell and tells him to leave her there. Josh sees Tessa and gets into a fight with her. Tessa freaks out and leaves. The next day Sarah says she is going back to Josh's house but Tessa has a different theory. She claims she is the reason Sarah left her home.Thinking that may happen to her, Tessa runs back to Josh's house thinking Sarah stole her things. There she meets a girl called Jenny and they become friends. They dated for 2 months but they separated due to Tessa's lies. They joke with each other and she tells him she thinks he is having an affair with her.Jenny cuts her an egg, rice, and hash sandwich both made with his property. Tessa pours water over Tessa's egg and gets pregnant. At the baby shower, Tessa gives birth to a girl named Gina and sees Jay. Tessa begs for Jay's forgiveness for his misbehavior and for Jay to leave her. When Gina rejects him, he leaves her there alone. They get arrested for trespassing upon the beach and start having sex without a condom.At the apartment, a racist asshole dumps feces on the Jew and Gina begins to fawn over him. He later berates her and starts harassing her for looking up his name. One night, Tessa shows up at Gina's house without telling, suggesting she's on a date. He assholes video their way out of jail and stabs them with a pipe. One day, Tessa runs into Alex sitting on the beach, assfucked and assfucked good night british. After Tessa fawns over him, he stabs her in the stomach and she runs away to find a potluck dinner she made herself.Tessa and Gina get drunk and party like it's paradise. Josh runs out to the sea and it's famous as the Pearl Islands because of Tessa's assfucking her. Gina tries to make it on her own but is stuck in the bottom of a puddle rather than the river bottom because of the wet fish she washed up. She thinks she is floating but it proves to be a fluke and she endures weeks of continuous suffering because of it.Josh gets drunk and starts drinking in the pool. He ends up with a serious bacterial infection and is diagnosed with a gonorrhea infection. Telling someone about his bad luck he starts talking about it happening to him. It turns into a raging fight with Josh as they get drunk and argue. It gets ugly when Josh gets sick and has to be hospitalized.Tessa and Gina fight and become the object of lust and lustlessness. Josh's self-centeredness makes him a failure. Tessa later reminds Tessa of the note under the date, which she rejects. Gina later reads the note and perceives that the Italian beach house as a whole is a mirage.The next day Tessa and Gina are spotted flirting. That night, they make love on the beach. Tessa is shocked when her boyfriend hits her over the shoulder for not bringing her a drink. The next day, Tessa gets up early to take her boyfriend home.Back in her own house, Tessa makes plans with Josh to meet a friend. Josh's out of town for work and she stays at home and watches the fireworks from the window. The next day, she goes into town to buy a used car and the friends she had planned out say goodbye. Tessa drives away from Josh after he honks her on the backseat.The next morning, Tessa tells Josh she's been kidnapped by her father and is being held in a lake. Josh runs away after seeing her in the lake, but Tessa persuades him to take him home. Josh goes outside to hike the cliff face where he falls ill. He catches a glimpse of Tessa as he rises from his fallen landscape, and falls in love with her. Tessa healed Josh's illness and death but forbids him from spending time with Tessa. Josh goes fishing\n",
            "\n",
            "[510 | 2375.40] loss=0.35 avg=1.32\n",
            "[520 | 2420.02] loss=0.30 avg=1.29\n",
            "[530 | 2464.60] loss=0.28 avg=1.27\n",
            "[540 | 2509.18] loss=0.17 avg=1.24\n",
            "[550 | 2553.75] loss=0.19 avg=1.22\n",
            "[560 | 2598.33] loss=0.28 avg=1.20\n",
            "[570 | 2642.91] loss=0.16 avg=1.17\n",
            "[580 | 2687.48] loss=0.20 avg=1.15\n",
            "[590 | 2732.07] loss=0.14 avg=1.13\n",
            "[600 | 2776.67] loss=0.19 avg=1.11\n",
            "======== SAMPLE 1 ========\n",
            " consent's decision not to bring charges against him, and leaves. After having sex with the couple, he reopens his own life, but with a different man. They are broken and lonely after their roadie relationship soured, but he has other lovers.Diana meets an African-American woman named Ashley that owns a hair salon in downtowns. One night, she meets Anthony (played by Ty Lue), a man who once owned another salon; she becomes infatuated and withdrawn while still being under the influence. Despite their unconventional relationship, the two miss each other deeply. Natalie and Anthony have sex frequently, and reveals Diana's sexual history to Maria. The two develop a close relationship when they work together as a band. They met when Ty Lue, their manager, was a stripper at a music festival in Pennsylvania.Ty creates a comic book character with Diana that depicts naked women as symbols of slavery. He later hires Diana to collect black women for a comic strip, making him the first comic book character to do so. In the city proper, Diana docks with the proceeds from the sale of the strip and the money she saves up for retirement. Later, she takes Anthony with her to a diner where she realizes Ty has set up shop in the city proper, and she wants to use the money to help rebuild the city.Tony is offered a full partnership of the company as a charitable organization. He strenuously disagrees, saying that the partnership would result in the demolition of the city and the privatization of the city's resources. Diana agrees to accept. During this meeting, Tony creates an elaborate set of rules for the city that he personally will break, while Maria rules to maintain secrecy. The resulting chaos sets in motion Anthony and Maria's fall from grace ratings to fit, and the ensuing fight is captured on security guards at the city casino. The resulting chaos causes the city to be flooded, and the city to revert to its original state as a wasteland. The cityscape that emerges is completely altered. The billboards, shops, and characters have been completely replaced. The level of decay that has taken place here is well-deserved.Back to the present day, Diana has become the intellectual, bearing enormous debts to the city, and has even greater responsibilities than Ty did. To pay all of the debt, Tony has also hired a new employee named Diana, who has experience in the field, and hires more staff members who are familiar with the city's challenges. She tasks Moren Williams, a highly paid local government official, with managing large-scale foreclosures in New York. The employees who responded to Moren's notice were dismissed, and Moren hires Keltner to investigate the case. In the aftermath, Diana falls in with a wealthy friend of her mother's, Reed, and the two drive to the Adventurer's League to retrieve Moren's client, Brigsby, from the foreclosure processing center. There, they discover that Brigsby's skeleton is encrusted with blackened teeth and remains up for sale. Moren sets the record straight and confesses that she knew Brigsby was not real, but tried to avoid identifying him. Reed is furious, and the two team up with Diana to hunt down Brigsby. After attempting to kill Olly, they are shot in the head and both explode, killing them. The team is able to escape the rubble by climbing a structure, but are quickly surrounded by riot police. Keltner arrives and attempts to shoot Randal, the league's new commissioner, but is unable to kill him. Diana is able to escape the rubble and uses a crowbar to shock Keltner away from the wall, thus causing the demolition to begin. The damage is already too much for Keltner to handle, and so orders Keltner to drive to the city's sewers, where they can disable the most advanced explosives, to the surprise of many, a giant robot dubbed Reaper emerges and kills Keltner.It then engages the team from another building, confronting them head-on. Reaper attacks Keltner but Randal is able to escape, resulting in Keltner surviving and using the robot to send the giant robot down into the sewers. Moving into a new building, Diana attempts to shut down the city's power utility, but the resulting explosion causes the building to collapse, which triggers a small bird-like creature known as Reaper to terrorize the city. As Diana tries to fend off it, Reed comes out and reveals himself as the criminal connected to the previous events. Diana reconciles with the other members of the team and accepts the consequences, unintentionally causing the cascade known as Cerberus to occur. Keltner, Reed, and the bird-like creature remain on Earth, though Ares immediately kills Keltner and departs for the Celestial Sphere.Reed and Keltner find Sarge, who agrees to help them if they help each other out in the past. When they are able to repair the broken forward controls, they remove the laser which\n",
            "\n",
            "[610 | 2838.29] loss=0.16 avg=1.09\n",
            "[620 | 2882.88] loss=0.17 avg=1.07\n",
            "[630 | 2927.52] loss=0.14 avg=1.05\n",
            "[640 | 2972.09] loss=0.15 avg=1.03\n",
            "[650 | 3016.70] loss=0.14 avg=1.01\n",
            "[660 | 3061.29] loss=0.12 avg=0.99\n",
            "[670 | 3105.89] loss=0.12 avg=0.97\n",
            "[680 | 3150.47] loss=0.16 avg=0.96\n",
            "[690 | 3195.01] loss=0.13 avg=0.94\n",
            "[700 | 3239.62] loss=0.11 avg=0.92\n",
            "======== SAMPLE 1 ========\n",
            " follow on.While she is sleeping, she notices a bouquet of flowers is hidden under a tree branch. She investigates and discovers that it is a note from Kylo, who death Watcher Bellas previously mentioned was watching her. Bellas is annoyed after Kylo cannot control Saw as his true love, Dante, does not reciprocate. As Bellas gets the upper hand on Saw, both men struggle to free the trigger mechanism. Despite trying, they are unable to kill Kylo. Kat is annoyed that Bellas is not using her as a weapon, and shoots him. Determined to kill Kylo, Bellas creates a new killer from the wreckage.Luke appears and confronts Bellas in a rage of suppressed superpowers. As Bellas mock-heroes die in vehicular crashes, and in the resulting fight Luke is taunted by Bastion into attempting to kill him, which he easily destroys. Bitter at this turning of the tide, Lustforika angers Luke for abandoning her father and for attempting to stand up to the Emperor. Luke refuses to kill Bastion and instead sacrifices himself to save Darma and the Emperor's newborn son on his ship. The two battle their way through a horde of BV's combatants and ultimately kill Luke's superior, Major Valerian.Luke points out that BV chose him, not the Jedi, and leads their new Emperor to the Eternal Wildsmen, a mythical place where humans have lived for millions of years. Luke reveals that he is the Hutt's former ambassador and that the Prophecy from the Future foretold his eventual death but which he retains possession of. Valerian has found the hidden Temple of Yogg-Lai and learns that Yogg-Lai is the true Emperor. The two engage in a brief battle that is damaged beyond repair and which kills both of them. Luke reveals that he is the former general's brother and mother and that when the two fell in love he saved both of them. Valerian's loyalist son tracked the two to the Temple of Yogg-Lai but failed to kill them. He tells them that despite his brother's services, Valerian has left them and that he and his wife, Liao, are dead. Liao informs him that Yogg-Lai also has a temple there and that Yogg-Lai's plans are in the making.Luke reveals his plan to exploit the winter of 47 years earlier for the luring of the R2-D2 to a new trading post in Thailand. An unmarked Imperial soldier is to be killed protecting the soldier. Leia tells him that the Imperial military is still at large there, especially not the resistance. She also tells Luke that Resistance infiltratoraders had captured a C-3PO that was posing as a smuggler, hoping to recruit more. Luke responded that he had killed the man previously, having been captured by R2-D2's operatives. The Resistance successfully saves the C-3PO, but Leia reveals the traitor. Resistance infiltratoraders disguised as C-3POs storm through the Resistance headquarters and kill several officers. C-3PO reveals his mission to rescue the smuggler and takes off on a high-profile travel the Resistance members are aware of. He leads a caravan through the jungle for Lake Merritt, knowing full well R2-D2 will continue to kill them unless Leia intervenes. Realizing he is in the middle of a long road trip, Leia gives up hope and opens up to Luke. She asks Luke if he has any hidden priorities for them to tackle together. Luke responds that he had killed R2-D2, claiming he knows nothing about R2-D2's motives. Realizing Luke is talking to women, and not telling the ladies, Leia leaves. Luke says he fell in love with R2-D2, and they fall in love again. Leia tells him they slept in his bed, and Luke proceed to kiss again. At Londinium, a sleeping Princess Leia gives birth to a baby dragon, which is revealed to be a reclusive greenbird (Demetri Martin) that lives in a corner of the infirmary. Lianne asks if Luke is friends with the baby, Leia replies that he is mute and introduces herself only as \"Nina\".Lianne tells Nina that she is a teacher and that she was born and raised on the planet Bana, but was a nanny when she was born. Nina asks if Luke is friends with the baby and Leia responds that he knows nothing about it but that he is persistent. Blue mentions Luke's interest in learning more about the Force, and Leia responds by reading a book named after Luke: The Story of the Force. Leia mentions Luke and a Force-sensitive figure, Ahch-To, appear in the room and encourage Luke to begin to understand the Force, but Luke prevents her from telling that she knows nothing about the Force. Suddenly, Ahch-To jumps in the way of a car and\n",
            "\n",
            "[710 | 3301.33] loss=0.11 avg=0.91\n",
            "[720 | 3345.92] loss=0.13 avg=0.89\n",
            "[730 | 3390.33] loss=0.13 avg=0.88\n",
            "[740 | 3434.68] loss=0.11 avg=0.86\n",
            "[750 | 3479.04] loss=0.12 avg=0.85\n",
            "Saving checkpoint/run1/model-750\n",
            "[760 | 3525.96] loss=0.12 avg=0.84\n",
            "[770 | 3570.32] loss=0.09 avg=0.82\n",
            "[780 | 3614.70] loss=0.10 avg=0.81\n",
            "[790 | 3659.10] loss=0.11 avg=0.80\n",
            "[800 | 3703.44] loss=0.12 avg=0.78\n",
            "======== SAMPLE 1 ========\n",
            " relationship to get to the bottom of her death. James realises that Ethan is staying at the same hotel where he saw herlift the baby off the floor, which shocked him. James is shocked after seeing the baby on the floor, and begins to suspect that Ethan drowned it.James calls the coast guard and they reach the hotel. There, they find out that Juliette was the killer, too. They ask Jenny to go with them to get the baby but she's suspicious of sharks and the bluefin tuna. James tells her could you get away with anything including the death of an innocent baby, and they head off to the beach, where Jenny preps shark baiting to work its magic.Bluefin offers them some of the best macaws she knows, like the Sharknado Mac, which they gladly accept. Darius explains that he hunts the giant bluefin only to be ambushed. James finds the bluefin first running back toward them from the shark he had just killed, and realizes he's been framed.Bluefin grabs Jenny's prosthetic arm in place, allowing him to run away. James catches up to them, and they both embrace, knowing they have no hope of escaping together. Jenny ends her article for Esquire saying that James should really, really, really, really, really, really, really, really, really, really, knows what shere thinking?What do you make of James' escape and the ensuing Facebook post that reads, \"Glorious?\".<EOL>\n",
            "\n",
            "<BOL>The film opens with an address for Katrina Evra in her apartment in New Orleans. Katrina's body is released from the water onto a construction slurry. The body is slightly decompressed and has marks on his neck from dehydration. This allows the construction workers to identify the slurry as Lamb's. When they remove the sack, they find that it had been washed up on the beach by the slurry. They identify this as evidence that Louisiana was not properly awarded the \"claimed\" beach.Lamb is seen dragging the slurry ashore in New Orleans, alongside the old body. He and Mary get in a taxi and drive to a hospital, where Mary identifies the body as that of Katrina. She also reveals that the body contains marks from dehydration, evidence that Louisiana was not properly awarded the \"claimed\" beach. The body also shows evidence of wounds from prior drownings, as well as evidence that Mary was right about the slag being Lamb's responsibility.Based on the available evidence, Mary is the one who should first claim the \"new\" beach. The construction workers dismiss this as a smokescreen to deflect responsibility for the slag's toxicology report from the Louisiana Department of Environmental Quality (DEE). Mary later locates the toxicology report and locates the \"sunken\" beachside promenade along with the dilapidated and vandalized house. This leads to further subterfuge and negligence by Mary, resulting in her falling victim to the \"tail\" infection from the \"tail\" infection. During her stay in a rehab center, she witnesses violent confrontations between two inmates and the inmate turns out to be one of the ringleaders of the \"sham\". Mary is assaulted while trying to escape the center. Attempts to hold the inmates responsible for the abuse are unsuccessful.Madeline returns to the center, this time with two cellphones. She also learns that the jail is no longer in maintenance and sherier \"Rosa\" Deluca is now her cellmate. Rosa leads Madeline, cellmate Dina, and her friend James, to a shabby motel in upstate New York called The Rock. The owner of the hotel, Colonel Jack Phillips, wants to meet Madeline before she goesmissing.com stating \"The Rock\" is still missing.On the way to the motel, Madeline meets a biker named Toby who offers to ride her horse at the shack. Madeline and Toby ride her horse as a \"gift\" to Jack in the shack, and then tells Jack she doesn't like the direction the trip is going. When Toby tries to leave,Madeline calls the biker and leaves him. As they get some supplies for their trip, they discover that Toby is missing and their suspicions are raised as to who the missing biker is. Jack takes some of the horses back to the shack. Meanwhile, Rosa shows her phone photos to the owner of the hotel, Colonel Jack Phillips. Phillips releases the biker from jail. The two trek to The Rock to meet him, and they encounter some of the patrons there. The Rock is a popular spot for footy dancing and drinking.Several months later, Rosa and Jack have been married, and Jack has been a successful privateer. While they are traveling in the desert, Jack likes to have his horses foraging for food through the open ground near the dam. He is troubled that some of them, including Rosa, Jack had found horseback riding comfortable enough, so he decided to include them in his overall plan for\n",
            "\n",
            "[810 | 3764.61] loss=0.08 avg=0.77\n",
            "[820 | 3808.97] loss=0.10 avg=0.76\n",
            "[830 | 3853.35] loss=0.10 avg=0.75\n",
            "[840 | 3897.75] loss=0.08 avg=0.74\n",
            "[850 | 3942.09] loss=0.11 avg=0.72\n",
            "[860 | 3986.43] loss=0.08 avg=0.71\n",
            "[870 | 4030.75] loss=0.11 avg=0.70\n",
            "[880 | 4075.07] loss=0.10 avg=0.69\n",
            "[890 | 4119.34] loss=0.08 avg=0.68\n",
            "[900 | 4163.65] loss=0.07 avg=0.67\n",
            "======== SAMPLE 1 ========\n",
            " son-in-law will be waiting for them.<EOL>\n",
            "\n",
            "<BOL>In 2017, the U.S. government shuts down the \"International Crime Scene\". The ICES finds evidence of crime but does not identify the suspects. Instead, it focuses on North Korea, sanctioned by the ICT Act and known as Knotanka. Kim Yong-Il, the ICES's North Korean manager, recognizes three people from the photograph that appeared in the photograph: Hyun Woo, a high-level North Korean negotiator, and Kim Yong-Il, a former employee of Seoul's resettlements agency ICJ. They are linked by a high-profile death in the Javanese market, and confirm Kim's denials about being a party to the Oslo Accords.Two years later, in Seoul, Kim and her family are forced to flee after being barred from coming back. Exhausted, she travels to get Kim's help in getting her home back. During a trip she takes, she dons a prosthetic hand, adds a prosthetic arm to lift her desk, and returns to the house. But before she can get home, her prosthetic hand is detached, and she is unable to lift Kim's leg. While she and her son are playing, a soldier shows up and shoots Kim Yong-Il in the leg.Kim Yong-Il apologizes to him and tells him that she is sorry. Kim Yong-Il tells him that he was misinformed on the peace process and that he was not alone. He tells her that since the '90s, the ICES has been working on their joint program to end the war in the Korean War. As a result of this failure, Kim receives an annual salary of $65,000.65.Eighteen months later, while Kim is in Seoul attending her son's concert when an envoy from Outer Mongolia arrives, she is visited by an agent from Uzbekistan who tells her that an American businessman has arrived with an American military escort. Kim arrives uncertain how he is going to pay the guest, but when he assumes the role of general, he is filmed phoning the man as he arrives for his upcoming New York concert. The general, speaking by phone, tells Kim that the general expects her to wait in the hotel lobby as he and the general escort him. When Kim does arrive, the general informs her that he has removed the American soldiers from the hotel. However, the women are not told that the general has also ordered that the American soldiers leave the hotel. Instead, they are told that they will be arrested and that their death will be the end of the story.Instead of simply leaving, Kim's husband Tae Woo asks for Kim's death to go ahead and promises his sister that she will stay with him and her husband forever. Kim's friends include Yeo, Jang, Hee Woo, Byung San, and Seo Min-Hwan. Kim Soon-Sik, a young woman friend of his daughter, arrives with him and has an arranged marriage.Several months later, Kim has become envious of Yeo and joined his army. Though he finds it increasingly difficult to find work, Yeo follows him to Seoul, boasting that he has set up an internet messaging appthat lets him talk to Kim and Kim's families. Diplomatic tensions arise as tensions mount between the United States and South Korea over the nuclear issue. Diplomatic cables released by Edward J. Snowden, the former National Security Agency leaker, show that the White House is increasingly frustrated with the State Department's handling of the crisis. Seung Hui, the White House acting secretary, is frustrated with the Department of Commerce after it has failed to disclose how much money it has spent on lobbying in Washington.Meanwhile, Kim goes to the Pentagon to speak with a Boss Chang, the leader of a controversial political party. Chang tells him that his party has been detained and threatened and suggests that the military choose the former over the latter. Kim decides to give his political leader the same chance as him. Park Soon-shik, a party officer, tries to resign as party chief but is reinstated in a new post. Chang has tried to discourage Koreans from running for political office, saying that elected office is an election of hope rather than of hope itself.However, Chang becomes the victim of an arrogant, self-centered, and condescending Chang Soon (who ignores repeated directions from his coworker Chang Chee), who wants to retire at a young age without having replaced Chang Soon with a better candidate. After running into one of the newer candidates, Park Soon-shik, Park Soon-shik's popularity grows as she seeks to restore the party's popularity by having voters return the two sisters they lost in the past. Park Soon-shik becomes the first female candidate to win all three daughters of her father's party's members' elections. She discourages Chang Soon from speaking out, reminding him that he is still their commander. Chang believes this is why he was barred from the capital from\n",
            "\n",
            "[910 | 4224.68] loss=0.11 avg=0.66\n",
            "[920 | 4269.07] loss=0.10 avg=0.65\n",
            "[930 | 4313.42] loss=0.08 avg=0.64\n",
            "[940 | 4357.76] loss=0.08 avg=0.63\n",
            "[950 | 4402.13] loss=0.11 avg=0.63\n",
            "[960 | 4446.51] loss=0.08 avg=0.62\n",
            "[970 | 4490.81] loss=0.10 avg=0.61\n",
            "[980 | 4535.21] loss=0.10 avg=0.60\n",
            "[990 | 4579.58] loss=0.08 avg=0.59\n",
            "[1000 | 4623.97] loss=0.08 avg=0.58\n",
            "Saving checkpoint/run1/model-1000\n"
          ]
        }
      ]
    },
    {
      "cell_type": "code",
      "metadata": {
        "id": "crZux5KQCzSh",
        "colab": {
          "base_uri": "https://localhost:8080/"
        },
        "outputId": "9bdaf846-6a52-40d8-eb34-5d4f7efa070b"
      },
      "source": [
        "# Generating plots (Note: can add length parameter to fix length of plot, but it )\n",
        "gpt2.generate(session,\n",
        "              temperature=0.7, # determines the randomness of generated text ie higher the value, higher the randomness (Note: Optimal temperature values lie between 0.7 to 1.2)\n",
        "              nsamples = 1, # no of outputs to be generated\n",
        "              prefix = \"<BOL>\", # prefix used in training dataset to indicate beginning of a plots (Note: default prefix is “<|startoftext|>”, but in this case I've used <BOL>)\n",
        "              truncate = \"<EOL>\", # postfix used in training dataset to indicate end of a plot (Note: default postfix is “<|endoftext|>”, but in this case I've used <EOL>)\n",
        "              include_prefix = False\n",
        "              )"
      ],
      "execution_count": 15,
      "outputs": [
        {
          "output_type": "stream",
          "name": "stdout",
          "text": [
            "In an interview with the Los Angeles Times published on Friday, David Nevins, who wrote \"Wonder Woman\" and directed the voiceovers for several episodes, said he has been in contact with Nevins but was unaware of the situation. He added that the reason he was approached was to have the chance to express my voice over an actor, Bryan Cranston.Written and directed by Roxanne RawlinsonJason Latour (Him), Victor (Zo), and Adrianna (Watchers)Beatriz (Emma), an undocumented immigrant from Mexico who is loved by Diana (Wade Wilson), Agathe (Jim Norton), and Juan (Josh Brener). Jason is on call to tell everyone he is coming for his auditions, and everyone else is just waiting for an interview. The interview is supposed to happen, but then the agents arrive, and the three enter the audition room to see if anyone is watching. No one is, but someone else is, and the agent tells them that they are going to have to wait an hour to get an interview. Jason and Victor know someone named Heimail, and they part company.Jason becomes emotional. Heimail, feeling sorry for Them, tells him she is not angry, and they should not make fun of each other. The three go to the audition room and just can't get any interviews. Victor asks if they are friends, and Jason says no, she is not with him. Heimail shows him an picture of her and tells him she is beautiful. Heimail laughs it off, and walks away. Victor asks if he can have it both ways. He says he thinks they would be friends. Diana goes to the audition and sees Agathe and Juan on the same page, but they are not on the same page. She asks if he is having an affair with Them. They argue until Juan grabs a pen and writes \"Hail Satan\" on it. Jason tells Agathe that he knows, and she shoves him to the ground. Jason gets up and leaves.Beatriz tells everyone they were in a dream and they all know what It's like.Beatriz tells everyone she is sorry, and then Juan leaves.\n"
          ]
        }
      ]
    },
    {
      "cell_type": "code",
      "metadata": {
        "id": "ANNxhX1akogi"
      },
      "source": [
        ""
      ],
      "execution_count": null,
      "outputs": []
    }
  ]
}